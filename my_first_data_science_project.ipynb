{
 "cells": [
  {
   "cell_type": "markdown",
   "metadata": {},
   "source": [
    "# Profitable App Profiles for the App Store and Google Play Markets\n",
    "\n",
    "For this project, I'll pretend that I'm working as a data analyst for a company that builds Android and iOS mobile apps. We make our apps available on Google Play and the App Store.\n",
    "\n",
    "Our company only builds apps that are designed for an English-speaking audience. They are also free to download and install, and our main source of revenue consists of in-app ads. This means that our revenue for any given app is mostly influenced by the number of users who use our app &mdash; the more users that see and engage with the ads, the better. My goal for this project is to analyze data to help the developers understand what types of apps are likely to attract more users.\n",
    "\n",
    "## Opening and Exploring the Data\n",
    "\n",
    "To accomplish my goal, I'll need to collect and analyze data about mobile apps available on Google Play and the App Store. As of September 2018, there were approximately 2 million iOS apps available on the App Store and 2.1 million Android apps on Google Play.\n",
    "\n",
    "![Number of apps &copy; Statista 2018](https://s3.amazonaws.com/dq-content/350/py1m8_statista.png)\n",
    "\n",
    "Collecting data for over 4 million apps requires a significant amount of time and money, so I'll try to analyze a sample of the data instead. To avoid spending resources on collecting new data, I'll try to find any relevant existing data at no cost. Luckily, these are two data sets that seem suitable for my goal:\n",
    "\n",
    "- [A data set](https://www.kaggle.com/lava18/google-play-store-apps) containing data about approximately 10,000 **Android** apps from **Google Play**; the data was collected in August 2018 (you can download the data set directly from this [link](https://dq-content.s3.amazonaws.com/350/googleplaystore.csv))\n",
    "- [A data set](https://www.kaggle.com/ramamet4/app-store-apple-data-set-10k-apps) containing data about approximately 7,000 **iOS** apps from the **App Store**; the data was collected in July 2017 (you can download the data set directly from this [link](https://dq-content.s3.amazonaws.com/350/AppleStore.csv))\n",
    "\n",
    "I'll start by opening and exploring these two data sets. Before doing that though, to make the two data sets easier to explore, I'll create a function named `explore_data()` that I can repeatedly use to print rows of data in a readable way. In addition, when I use this function, I'll have the option to output the number of rows and columns in the data set."
   ]
  },
  {
   "cell_type": "code",
   "execution_count": 1,
   "metadata": {},
   "outputs": [],
   "source": [
    "def explore_data(data_set, start, end, rows_and_columns=False):\n",
    "    data_slice = data_set[start:end]\n",
    "    for row in data_slice:\n",
    "        print(row)\n",
    "        # Print an extra line of space after each row for readability\n",
    "        print()\n",
    "    \n",
    "    if rows_and_columns:\n",
    "        print('Number of rows:', len(data_set))\n",
    "        print('Number of columns:', len(data_set[0]))"
   ]
  },
  {
   "cell_type": "markdown",
   "metadata": {},
   "source": [
    "Now that I'm appropriately prepared, I'll open the two data sets."
   ]
  },
  {
   "cell_type": "code",
   "execution_count": 2,
   "metadata": {},
   "outputs": [],
   "source": [
    "from csv import reader\n",
    "\n",
    "### The Google Play data set ###\n",
    "opened_file = open('../data_sets/googleplaystore.csv')\n",
    "read_file = reader(opened_file)\n",
    "android = list(read_file)\n",
    "android_header = android[0]\n",
    "android = android[1:]\n",
    "\n",
    "### The App Store data set ###\n",
    "opened_file = open('../data_sets/AppleStore.csv')\n",
    "read_file = reader(opened_file)\n",
    "ios = list(read_file)\n",
    "ios_header = ios[0]\n",
    "ios = ios[1:]"
   ]
  },
  {
   "cell_type": "markdown",
   "metadata": {},
   "source": [
    "Next, I'll explore the two data sets by finding and outputting the first few rows of each one using the `explore_data()` function. Above the example rows of each data set, you'll also be able to see the columns of the data set. The columns should give you a better insight on exactly what each data point represents. I'll inspect these columns myself so that I can identify which ones might help me with my analysis."
   ]
  },
  {
   "cell_type": "code",
   "execution_count": 3,
   "metadata": {
    "scrolled": false
   },
   "outputs": [
    {
     "name": "stdout",
     "output_type": "stream",
     "text": [
      "['App', 'Category', 'Rating', 'Reviews', 'Size', 'Installs', 'Type', 'Price', 'Content Rating', 'Genres', 'Last Updated', 'Current Ver', 'Android Ver']\n",
      "\n",
      "['Photo Editor & Candy Camera & Grid & ScrapBook', 'ART_AND_DESIGN', '4.1', '159', '19M', '10,000+', 'Free', '0', 'Everyone', 'Art & Design', 'January 7, 2018', '1.0.0', '4.0.3 and up']\n",
      "\n",
      "['Coloring book moana', 'ART_AND_DESIGN', '3.9', '967', '14M', '500,000+', 'Free', '0', 'Everyone', 'Art & Design;Pretend Play', 'January 15, 2018', '2.0.0', '4.0.3 and up']\n",
      "\n",
      "['U Launcher Lite – FREE Live Cool Themes, Hide Apps', 'ART_AND_DESIGN', '4.7', '87510', '8.7M', '5,000,000+', 'Free', '0', 'Everyone', 'Art & Design', 'August 1, 2018', '1.2.4', '4.0.3 and up']\n",
      "\n",
      "Number of rows: 10841\n",
      "Number of columns: 13\n",
      "\n",
      "['id', 'track_name', 'size_bytes', 'currency', 'price', 'rating_count_tot', 'rating_count_ver', 'user_rating', 'user_rating_ver', 'ver', 'cont_rating', 'prime_genre', 'sup_devices.num', 'ipadSc_urls.num', 'lang.num', 'vpp_lic']\n",
      "\n",
      "['284882215', 'Facebook', '389879808', 'USD', '0.0', '2974676', '212', '3.5', '3.5', '95.0', '4+', 'Social Networking', '37', '1', '29', '1']\n",
      "\n",
      "['389801252', 'Instagram', '113954816', 'USD', '0.0', '2161558', '1289', '4.5', '4.0', '10.23', '12+', 'Photo & Video', '37', '0', '29', '1']\n",
      "\n",
      "['529479190', 'Clash of Clans', '116476928', 'USD', '0.0', '2130805', '579', '4.5', '4.5', '9.24.12', '9+', 'Games', '38', '5', '18', '1']\n",
      "\n",
      "Number of rows: 7197\n",
      "Number of columns: 16\n"
     ]
    }
   ],
   "source": [
    "print(android_header)\n",
    "print()\n",
    "\n",
    "explore_data(android, 0, 3, True)\n",
    "print()\n",
    "\n",
    "print(ios_header)\n",
    "print()\n",
    "\n",
    "explore_data(ios, 0, 3, True)"
   ]
  },
  {
   "cell_type": "markdown",
   "metadata": {},
   "source": [
    "Most of the columns in the data sets are pretty self-explanatory, but if you don't understand some of the columns, you can view the documentation for the Google Play data set [here](https://www.kaggle.com/lava18/google-play-store-apps) and the App Store data set [here](https://www.kaggle.com/ramamet4/app-store-apple-data-set-10k-apps).\n",
    "\n",
    "And as for which columns will help me reach my goal, I believe that the following are the most interesting at a quick glance:\n",
    "\n",
    "**Google Play** data set:\n",
    "\n",
    "- `'track_name'`\n",
    "- `'currency'`\n",
    "- `'price'`\n",
    "- `'rating_count_tot'`\n",
    "- `'rating_count_ver'`\n",
    "- `'prime_genre'`\n",
    "\n",
    "**App Store** data set:\n",
    "\n",
    "- `'App'`\n",
    "- `'Category'`\n",
    "- `'Reviews'`\n",
    "- `'Installs'`\n",
    "- `'Type'`\n",
    "- `'Price'`\n",
    "- `'Genres'`\n",
    "\n",
    "## Deleting Wrong Data\n",
    "\n",
    "Before beginning my analysis, I need to make sure that the data I analyze is accurate, otherwise the results of my analysis will be wrong. This means that I need to:\n",
    "\n",
    "- Detect inaccurate data, and correct or remove it.\n",
    "- Detect duplicate data, and remove the duplicates.\n",
    "\n",
    "My company only builds apps that are free to download and install, and they are directed toward an English-speaking audience. This means that I'll need to:\n",
    "\n",
    "- Remove non-English apps like 爱奇艺PPS -《欢乐颂2》电视剧热播.\n",
    "- Remove apps that aren't free.\n",
    "\n",
    "I'll begin by detecting and deleting wrong data.\n",
    "\n",
    "The Google Play data set has a dedicated [discussion section](https://www.kaggle.com/lava18/google-play-store-apps/discussion), and you can see that [one of the discussions](https://www.kaggle.com/lava18/google-play-store-apps/discussion/66015) describes an error for a certain row (entry 10472). This entry is missing its `'Category'` value, which causes a shift in the column. Additionally, the app has an empty value for its genre. To show you this, I'll present the exact row from the data set. And lastly, I'll delete this incorrect entry from the Google Play data set."
   ]
  },
  {
   "cell_type": "code",
   "execution_count": 4,
   "metadata": {
    "scrolled": false
   },
   "outputs": [
    {
     "name": "stdout",
     "output_type": "stream",
     "text": [
      "['Life Made WI-Fi Touchscreen Photo Frame', '1.9', '19', '3.0M', '1,000+', 'Free', '0', 'Everyone', '', 'February 11, 2018', '1.0.19', '4.0 and up']\n"
     ]
    }
   ],
   "source": [
    "print(android[10472])\n",
    "\n",
    "del android[10472]"
   ]
  },
  {
   "cell_type": "markdown",
   "metadata": {},
   "source": [
    "## Removing Duplicate Entries\n",
    "\n",
    "### Part One\n",
    "\n",
    "Continuing the data cleaning process, if you explore the Google Play data set long enough or look at the [discussion section](https://www.kaggle.com/lava18/google-play-store-apps/discussion), you'll notice that some apps have duplicate entries. For instance, Instagram has four entries."
   ]
  },
  {
   "cell_type": "code",
   "execution_count": 5,
   "metadata": {
    "scrolled": true
   },
   "outputs": [
    {
     "name": "stdout",
     "output_type": "stream",
     "text": [
      "['Instagram', 'SOCIAL', '4.5', '66577313', 'Varies with device', '1,000,000,000+', 'Free', '0', 'Teen', 'Social', 'July 31, 2018', 'Varies with device', 'Varies with device']\n",
      "['Instagram', 'SOCIAL', '4.5', '66577446', 'Varies with device', '1,000,000,000+', 'Free', '0', 'Teen', 'Social', 'July 31, 2018', 'Varies with device', 'Varies with device']\n",
      "['Instagram', 'SOCIAL', '4.5', '66577313', 'Varies with device', '1,000,000,000+', 'Free', '0', 'Teen', 'Social', 'July 31, 2018', 'Varies with device', 'Varies with device']\n",
      "['Instagram', 'SOCIAL', '4.5', '66509917', 'Varies with device', '1,000,000,000+', 'Free', '0', 'Teen', 'Social', 'July 31, 2018', 'Varies with device', 'Varies with device']\n"
     ]
    }
   ],
   "source": [
    "for app in android:\n",
    "    name = app[0]\n",
    "    \n",
    "    if name == 'Instagram':\n",
    "        print(app)"
   ]
  },
  {
   "cell_type": "markdown",
   "metadata": {},
   "source": [
    "In total, there are 1,181 cases where an app occurs more than once."
   ]
  },
  {
   "cell_type": "code",
   "execution_count": 6,
   "metadata": {},
   "outputs": [
    {
     "name": "stdout",
     "output_type": "stream",
     "text": [
      "Number of unique apps: 9659\n",
      "\n",
      "Number of duplicate apps: 1181\n",
      "\n",
      "Examples of duplicate apps: ['Quick PDF Scanner + OCR FREE', 'Box', 'Google My Business', 'ZOOM Cloud Meetings', 'join.me - Simple Meetings', 'Box', 'Zenefits', 'Google Ads', 'Google My Business', 'Slack', 'FreshBooks Classic', 'Insightly CRM', 'QuickBooks Accounting: Invoicing & Expenses', 'HipChat - Chat Built for Teams', 'Xero Accounting Software', 'MailChimp - Email, Marketing Automation', 'Crew - Free Messaging and Scheduling', 'Asana: organize team projects', 'Google Analytics', 'AdWords Express']\n"
     ]
    }
   ],
   "source": [
    "unique_apps = []\n",
    "duplicate_apps = []\n",
    "\n",
    "for app in android:\n",
    "    name = app[0]\n",
    "    \n",
    "    if name in unique_apps:\n",
    "        duplicate_apps.append(name)\n",
    "    else:\n",
    "        unique_apps.append(name)\n",
    "        \n",
    "print('Number of unique apps:', len(unique_apps))\n",
    "\n",
    "print('\\nNumber of duplicate apps:', len(duplicate_apps)) # \\n also prints an extra line of space\n",
    "\n",
    "print('\\nExamples of duplicate apps:', duplicate_apps[:20])"
   ]
  },
  {
   "cell_type": "markdown",
   "metadata": {},
   "source": [
    "I don't want to count certain apps more than once when I analyze the data, so I need to remove the duplicate entries and keep only one entry per app. One thing I could do is remove the duplicate rows randomly, but I could probably find a better way.\n",
    "\n",
    "If you examine the rows I printed for the Instagram app, you can see that the main difference in these duplicates happens on the fourth position (number of reviews) of each row. The different numbers show that the data was collected at different times.\n",
    "\n",
    "![Different values for number of reviews in duplicates](https://s3.amazonaws.com/dq-content/350/py1m8_fourth_col.png)\n",
    "\n",
    "I can use this information to build a criterion for removing the duplicates. The higher the number of reviews, the more recent the data should be. Rather than removing duplicates randomly, I'll only keep the row with the highest number of reviews and remove the other entries for any given app.\n",
    "\n",
    "### Part Two\n",
    "\n",
    "When I looped through the Google Play data set, I found that there are 1,181 duplicates. After I remove these duplicates, the Google Play data set should be left with 9,659 rows."
   ]
  },
  {
   "cell_type": "code",
   "execution_count": 7,
   "metadata": {
    "scrolled": true
   },
   "outputs": [
    {
     "name": "stdout",
     "output_type": "stream",
     "text": [
      "Expected length: 9659\n"
     ]
    }
   ],
   "source": [
    "print('Expected length:', len(android) - len(duplicate_apps))"
   ]
  },
  {
   "cell_type": "markdown",
   "metadata": {},
   "source": [
    "To remove the duplicates, I will:\n",
    "\n",
    "- Create a dictionary, where each dictionary key is a unique app name and the corresponding dictionary value is the highest number of reviews of that app.\n",
    "- Use the information stored in the dictionary and create a new data set, which will have only one entry per app (and for each app, I'll only select the entry with the highest number of reviews).\n",
    "\n",
    "I'll start by building the dictionary and displaying its length to be sure that it doesn't account for any duplicate entries."
   ]
  },
  {
   "cell_type": "code",
   "execution_count": 8,
   "metadata": {},
   "outputs": [
    {
     "name": "stdout",
     "output_type": "stream",
     "text": [
      "Actual length: 9659\n"
     ]
    }
   ],
   "source": [
    "reviews_max = {}\n",
    "\n",
    "for app in android:\n",
    "    name = app[0]\n",
    "    n_reviews = float(app[3])\n",
    "    \n",
    "    if name in reviews_max and n_reviews > reviews_max[name]:\n",
    "        reviews_max[name] = n_reviews\n",
    "    elif name not in reviews_max:\n",
    "        reviews_max[name] = n_reviews\n",
    "        \n",
    "print('Actual length:', len(reviews_max))"
   ]
  },
  {
   "cell_type": "markdown",
   "metadata": {},
   "source": [
    "Now, I'll use the `reviews_max` dictionary to remove the duplicates. For the duplicate cases, I'll only keep the entries with the highest number of reviews. In the code cell below:\n",
    "\n",
    "- I start by initializing two empty lists, `android_clean` and `already_added`.\n",
    "- I loop through the `android` data set, and for every iteration:\n",
    "    - I isolate the name of the app and the number of reviews.\n",
    "    - I add the current row (`app`) to the `android_clean` list, and the app name (`name`) to the `already_cleaned` list if:\n",
    "        - The number of reviews of the current app matches the number of reviews of that app as described in the `reviews_max` dictionary.\n",
    "        - The name of the app is not already in the `already_added` list &mdash; I need to add this supplementary condition to account for those cases where the highest number of reviews of a duplicate app is the same for more than one entry (for example, the Box app has three entries, and the number of reviews is the same). If I just check for `reviews_max[name] == n_reviews`, I'll still end up with duplicate entries for some apps."
   ]
  },
  {
   "cell_type": "code",
   "execution_count": 9,
   "metadata": {},
   "outputs": [],
   "source": [
    "android_clean = []\n",
    "already_added = []\n",
    "\n",
    "for app in android:\n",
    "    name = app[0]\n",
    "    n_reviews = float(app[3])\n",
    "    \n",
    "    if n_reviews == reviews_max[name] and name not in already_added:\n",
    "        android_clean.append(app)\n",
    "        already_added.append(name)"
   ]
  },
  {
   "cell_type": "markdown",
   "metadata": {},
   "source": [
    "Lastly, I'll quickly explore the new and improved data set and confirm that the number of rows is precisely 9,659."
   ]
  },
  {
   "cell_type": "code",
   "execution_count": 10,
   "metadata": {},
   "outputs": [
    {
     "name": "stdout",
     "output_type": "stream",
     "text": [
      "['Photo Editor & Candy Camera & Grid & ScrapBook', 'ART_AND_DESIGN', '4.1', '159', '19M', '10,000+', 'Free', '0', 'Everyone', 'Art & Design', 'January 7, 2018', '1.0.0', '4.0.3 and up']\n",
      "\n",
      "['U Launcher Lite – FREE Live Cool Themes, Hide Apps', 'ART_AND_DESIGN', '4.7', '87510', '8.7M', '5,000,000+', 'Free', '0', 'Everyone', 'Art & Design', 'August 1, 2018', '1.2.4', '4.0.3 and up']\n",
      "\n",
      "['Sketch - Draw & Paint', 'ART_AND_DESIGN', '4.5', '215644', '25M', '50,000,000+', 'Free', '0', 'Teen', 'Art & Design', 'June 8, 2018', 'Varies with device', '4.2 and up']\n",
      "\n",
      "Number of rows: 9659\n",
      "Number of columns: 13\n"
     ]
    }
   ],
   "source": [
    "explore_data(android_clean, 0, 3, True)"
   ]
  },
  {
   "cell_type": "markdown",
   "metadata": {},
   "source": [
    "## Removing Non-English Apps\n",
    "\n",
    "### Part One\n",
    "\n",
    "Recall that my company creates English-only apps, and I'd like to analyze only the apps that are directed toward an English-speaking audience. However, if you explore the data long enough, you'll find that both data sets have apps with names that suggest that they are not directed toward an English-speaking audience."
   ]
  },
  {
   "cell_type": "code",
   "execution_count": 11,
   "metadata": {},
   "outputs": [
    {
     "name": "stdout",
     "output_type": "stream",
     "text": [
      "Android:\n",
      "\n",
      "Example 1: 中国語 AQリスニング\n",
      "Example 2: لعبة تقدر تربح DZ\n",
      "\n",
      "iOS:\n",
      "\n",
      "Example 1: 爱奇艺PPS -《欢乐颂2》电视剧热播\n",
      "Example 2: 【脱出ゲーム】絶対に最後までプレイしないで 〜謎解き＆ブロックパズル〜\n"
     ]
    }
   ],
   "source": [
    "print('Android:')\n",
    "print('\\nExample 1:', android_clean[4412][0])\n",
    "print('Example 2:', android_clean[7940][0])\n",
    "\n",
    "print()\n",
    "\n",
    "print('iOS:')\n",
    "print('\\nExample 1:', ios[813][1])\n",
    "print('Example 2:', ios[6731][1])"
   ]
  },
  {
   "cell_type": "markdown",
   "metadata": {},
   "source": [
    "I'm not interested in keeping these apps, so I'll remove them. One way to go about this is to remove each app with a name containing a symbol that is not commonly used in English text &mdash; English text usually includes letters from the English alphabet, numbers composed of digits from 0 to 9, punctuation marks (., !, ?, ;), and other symbols (+, *, /).\n",
    "\n",
    "Behind the scenes, each character used in a string has a corresponding number associated with it. For instance, the corresponding number for character 'a' is 97, character 'A' is 65, and character '爱' is 29,233. I can get the corresponding number of each character using the [`ord()` built-in function](https://docs.python.org/3/library/functions.html#ord).\n",
    "\n",
    "The numbers corresponding to the characters commonly used in English text are all in the range 0 to 127, according to the [ASCII](https://en.wikipedia.org/wiki/ASCII) (American Standard Code for Information Interchange) system. Based on this number range, I can build a function that detects whether a character belongs to the set of common English characters or not. If the number is less than or equal to 127, then the character belongs to the set of common English characters.\n",
    "\n",
    "If an app name contains a character that is greater than 127, then it probably means that the app has a non-English name. The app names are stored as strings; I can use indexing to select an individual character, and I can also iterate on the string using a `for` loop.\n",
    "\n",
    "With all this information in mind, I can write the function I just described."
   ]
  },
  {
   "cell_type": "code",
   "execution_count": 12,
   "metadata": {},
   "outputs": [],
   "source": [
    "def is_english(string):\n",
    "    for char in string:\n",
    "        if ord(char) > 127:\n",
    "            return False\n",
    "    \n",
    "    return True"
   ]
  },
  {
   "cell_type": "markdown",
   "metadata": {},
   "source": [
    "Before I use this function on the data sets, I'll test it out on some example names."
   ]
  },
  {
   "cell_type": "code",
   "execution_count": 13,
   "metadata": {},
   "outputs": [
    {
     "name": "stdout",
     "output_type": "stream",
     "text": [
      "English app name: True\n",
      "English app name: False\n"
     ]
    }
   ],
   "source": [
    "print('English app name:', is_english('Instagram'))\n",
    "print('English app name:', is_english('爱奇艺PPS -《欢乐颂2》电视剧热播'))"
   ]
  },
  {
   "cell_type": "markdown",
   "metadata": {},
   "source": [
    "The function seems to work perfectly fine, but what about app names with the trademark symbol (™) or emojis (😜)?"
   ]
  },
  {
   "cell_type": "code",
   "execution_count": 14,
   "metadata": {
    "scrolled": true
   },
   "outputs": [
    {
     "name": "stdout",
     "output_type": "stream",
     "text": [
      "English app name: False\n",
      "English app name: False\n"
     ]
    }
   ],
   "source": [
    "print('English app name:', is_english('Docs To Go™ Free Office Suite'))\n",
    "print('English app name:', is_english('Instachat 😜'))"
   ]
  },
  {
   "cell_type": "markdown",
   "metadata": {},
   "source": [
    "These special symbols fall outside the ASCII range (they have corresponding numbers over 127). In result, symbols like the ones above will cause useful apps to be removed if this function is used in its current form.\n",
    "\n",
    "### Part Two\n",
    "\n",
    "If I'm going to use the function I've created, I'll lose useful data since many English apps will be incorrectly labeled as non-English. To minimize the impact of data loss, I'll only remove an app if its name has more than three characters with corresponding numbers falling outside the ASCII range. This means all English apps with up to three emoji or other special characters will still be labeled as English. This filter function is still not perfect, but it should be fairly effective.\n",
    "\n",
    "Now, I'll edit the function I created, and then I'll use it to filter out the non-English apps."
   ]
  },
  {
   "cell_type": "code",
   "execution_count": 15,
   "metadata": {},
   "outputs": [
    {
     "name": "stdout",
     "output_type": "stream",
     "text": [
      "English app name: True\n",
      "English app name: True\n",
      "English app name: False\n"
     ]
    }
   ],
   "source": [
    "def is_english(string):\n",
    "    non_ascii = 0\n",
    "    \n",
    "    for char in string:\n",
    "        if ord(char) > 127:\n",
    "            non_ascii += 1\n",
    "    \n",
    "    if non_ascii > 3:\n",
    "        return False\n",
    "    \n",
    "    return True\n",
    "\n",
    "print('English app name:', is_english('Docs To Go™ Free Office Suite'))\n",
    "print('English app name:', is_english('Instachat 😜'))\n",
    "print('English app name:', is_english('爱奇艺PPS -《欢乐颂2》电视剧热播'))"
   ]
  },
  {
   "cell_type": "markdown",
   "metadata": {},
   "source": [
    "As you can see in the output above, the new `is_english()` function works fine. The final step is to use this new function to filter out the non-English apps from both data sets."
   ]
  },
  {
   "cell_type": "code",
   "execution_count": 16,
   "metadata": {},
   "outputs": [
    {
     "name": "stdout",
     "output_type": "stream",
     "text": [
      "['Photo Editor & Candy Camera & Grid & ScrapBook', 'ART_AND_DESIGN', '4.1', '159', '19M', '10,000+', 'Free', '0', 'Everyone', 'Art & Design', 'January 7, 2018', '1.0.0', '4.0.3 and up']\n",
      "\n",
      "['U Launcher Lite – FREE Live Cool Themes, Hide Apps', 'ART_AND_DESIGN', '4.7', '87510', '8.7M', '5,000,000+', 'Free', '0', 'Everyone', 'Art & Design', 'August 1, 2018', '1.2.4', '4.0.3 and up']\n",
      "\n",
      "['Sketch - Draw & Paint', 'ART_AND_DESIGN', '4.5', '215644', '25M', '50,000,000+', 'Free', '0', 'Teen', 'Art & Design', 'June 8, 2018', 'Varies with device', '4.2 and up']\n",
      "\n",
      "Number of rows: 9614\n",
      "Number of columns: 13\n",
      "\n",
      "['284882215', 'Facebook', '389879808', 'USD', '0.0', '2974676', '212', '3.5', '3.5', '95.0', '4+', 'Social Networking', '37', '1', '29', '1']\n",
      "\n",
      "['389801252', 'Instagram', '113954816', 'USD', '0.0', '2161558', '1289', '4.5', '4.0', '10.23', '12+', 'Photo & Video', '37', '0', '29', '1']\n",
      "\n",
      "['529479190', 'Clash of Clans', '116476928', 'USD', '0.0', '2130805', '579', '4.5', '4.5', '9.24.12', '9+', 'Games', '38', '5', '18', '1']\n",
      "\n",
      "Number of rows: 6183\n",
      "Number of columns: 16\n"
     ]
    }
   ],
   "source": [
    "android_english = []\n",
    "ios_english = []\n",
    "\n",
    "for app in android_clean:\n",
    "    name = app[0]\n",
    "    \n",
    "    if is_english(name):\n",
    "        android_english.append(app)\n",
    "        \n",
    "for app in ios:\n",
    "    name = app[1]\n",
    "    \n",
    "    if is_english(name):\n",
    "        ios_english.append(app)\n",
    "        \n",
    "explore_data(android_english, 0, 3, True)\n",
    "\n",
    "print()\n",
    "\n",
    "explore_data(ios_english, 0, 3, True)"
   ]
  },
  {
   "cell_type": "markdown",
   "metadata": {},
   "source": [
    "Now that all the non-English apps are out of the picture, there are 9,614 records left for the Google Play data set and 6,183 for the App Store data set.\n",
    "\n",
    "## Isolating the Free Apps\n",
    "\n",
    "As I mentioned in the introduction, my company only build apps that are free to download and install, and our main source of revenue consists of in-app ads. Currently, the data sets contain both free and non-free apps; I'll need to isolate only the free apps for my analysis.\n",
    "\n",
    "Luckily, isolating the free apps will be the last step in the data cleaning process. After this, I'll start analyzing the data."
   ]
  },
  {
   "cell_type": "code",
   "execution_count": 17,
   "metadata": {},
   "outputs": [
    {
     "name": "stdout",
     "output_type": "stream",
     "text": [
      "Remaining number of apps in Android data set: 8864\n",
      "Remaining number of apps in iOS data set: 3222\n"
     ]
    }
   ],
   "source": [
    "android_final = []\n",
    "ios_final = []\n",
    "\n",
    "for app in android_english:\n",
    "    price = app[7]\n",
    "    \n",
    "    if price == '0':\n",
    "        android_final.append(app)\n",
    "        \n",
    "for app in ios_english:\n",
    "    price = app[4]\n",
    "    \n",
    "    if price == '0.0':\n",
    "        ios_final.append(app)\n",
    "        \n",
    "print('Remaining number of apps in Android data set:', len(android_final))\n",
    "print('Remaining number of apps in iOS data set:', len(ios_final))"
   ]
  },
  {
   "cell_type": "markdown",
   "metadata": {},
   "source": [
    "## Most Common Apps by Genre\n",
    "\n",
    "### Part One\n",
    "\n",
    "Again, my aim is to determine the kinds of apps that are likely to attract more users because my company's revenue is highly influenced by the number of people using our apps.\n",
    "\n",
    "To minimize risks and overhead, my company's validation strategy for an app idea is comprised of three steps:\n",
    "\n",
    "1. Build a minimal Android version of the app, and add it to Google Play.\n",
    "2. If the app has a good response from users, we develop it further.\n",
    "3. If the app is profitable after six months, we build an iOS version of the app and add it to the App Store.\n",
    "\n",
    "Because our end goal is to add the app on both Google Play and the App Store, I need to find app profiles that are successful on both markets. For instance, a profile that works well for both markets might be a productivity app that makes use of gamification.\n",
    "\n",
    "I'll begin the analysis by getting a sense of what the most common genres for each market are. For this, I'll need to build frequency tables for a few columns in the data sets. But first, I'll inspect both data sets and identify the columns I could use to generate the frequency tables."
   ]
  },
  {
   "cell_type": "code",
   "execution_count": 18,
   "metadata": {},
   "outputs": [
    {
     "name": "stdout",
     "output_type": "stream",
     "text": [
      "['App', 'Category', 'Rating', 'Reviews', 'Size', 'Installs', 'Type', 'Price', 'Content Rating', 'Genres', 'Last Updated', 'Current Ver', 'Android Ver']\n",
      "\n",
      "['id', 'track_name', 'size_bytes', 'currency', 'price', 'rating_count_tot', 'rating_count_ver', 'user_rating', 'user_rating_ver', 'ver', 'cont_rating', 'prime_genre', 'sup_devices.num', 'ipadSc_urls.num', 'lang.num', 'vpp_lic']\n"
     ]
    }
   ],
   "source": [
    "print(android_header)\n",
    "\n",
    "print()\n",
    "\n",
    "print(ios_header)"
   ]
  },
  {
   "cell_type": "markdown",
   "metadata": {},
   "source": [
    "Evidently, the columns that I'll use for the Google Play data set will be `'Category'` and `'Genres'`, and I'll use the `'prime_genre'` column for the App Store data set.\n",
    "\n",
    "### Part Two\n",
    "\n",
    "With that objective in mind, I'll build two functions that I can use to analyze the frequency tables:\n",
    "\n",
    "- One function to generate frequency tables that show percentages\n",
    "- Another function that I can use to display the percentages in a descending order"
   ]
  },
  {
   "cell_type": "code",
   "execution_count": 19,
   "metadata": {},
   "outputs": [],
   "source": [
    "def freq_table(data_set, index):\n",
    "    table = {}\n",
    "    \n",
    "    for entry in data_set:\n",
    "        key = entry[index]\n",
    "        \n",
    "        if key in table:\n",
    "            table[key] += 1\n",
    "        else:\n",
    "            table[key] = 1\n",
    "    \n",
    "    table_percentages = {}\n",
    "    \n",
    "    for key in table:\n",
    "        percentage = table[key] / len(data_set) * 100\n",
    "        table_percentages[key] = percentage\n",
    "    \n",
    "    return table_percentages\n",
    "\n",
    "def display_table(data_set, index, decimal_place=2): # By default, the data will be rounded to 2 decimal places\n",
    "    table = freq_table(data_set, index)\n",
    "    table_display = []\n",
    "    for key in table:\n",
    "        key_val_as_tuple = (table[key], key)\n",
    "        table_display.append(key_val_as_tuple)\n",
    "    \n",
    "    table_sorted = sorted(table_display, reverse = True)\n",
    "    for entry in table_sorted:\n",
    "        print('{}: {}%'.format(entry[1], round(entry[0], decimal_place))) # Round data for readability"
   ]
  },
  {
   "cell_type": "markdown",
   "metadata": {},
   "source": [
    "### Part Three\n",
    "\n",
    "Now that those functions are in place, I can focus on analyzing the frequency tables for both data sets.\n",
    "\n",
    "I'll start with displaying the frequency table for the `'Category'` column in the Google Play data set."
   ]
  },
  {
   "cell_type": "code",
   "execution_count": 20,
   "metadata": {
    "scrolled": true
   },
   "outputs": [
    {
     "name": "stdout",
     "output_type": "stream",
     "text": [
      "FAMILY: 18.91%\n",
      "GAME: 9.72%\n",
      "TOOLS: 8.46%\n",
      "BUSINESS: 4.59%\n",
      "LIFESTYLE: 3.9%\n",
      "PRODUCTIVITY: 3.89%\n",
      "FINANCE: 3.7%\n",
      "MEDICAL: 3.53%\n",
      "SPORTS: 3.4%\n",
      "PERSONALIZATION: 3.32%\n",
      "COMMUNICATION: 3.24%\n",
      "HEALTH_AND_FITNESS: 3.08%\n",
      "PHOTOGRAPHY: 2.94%\n",
      "NEWS_AND_MAGAZINES: 2.8%\n",
      "SOCIAL: 2.66%\n",
      "TRAVEL_AND_LOCAL: 2.34%\n",
      "SHOPPING: 2.25%\n",
      "BOOKS_AND_REFERENCE: 2.14%\n",
      "DATING: 1.86%\n",
      "VIDEO_PLAYERS: 1.79%\n",
      "MAPS_AND_NAVIGATION: 1.4%\n",
      "FOOD_AND_DRINK: 1.24%\n",
      "EDUCATION: 1.16%\n",
      "ENTERTAINMENT: 0.96%\n",
      "LIBRARIES_AND_DEMO: 0.94%\n",
      "AUTO_AND_VEHICLES: 0.93%\n",
      "HOUSE_AND_HOME: 0.82%\n",
      "WEATHER: 0.8%\n",
      "EVENTS: 0.71%\n",
      "PARENTING: 0.65%\n",
      "ART_AND_DESIGN: 0.64%\n",
      "COMICS: 0.62%\n",
      "BEAUTY: 0.6%\n"
     ]
    }
   ],
   "source": [
    "display_table(android_final, 1)"
   ]
  },
  {
   "cell_type": "markdown",
   "metadata": {},
   "source": [
    "Among the many apps, the most common ones are family apps, gaming apps, and apps designed as tools. However, upon further inspection, I realized that the family apps consist mostly of games for kids. Overall, it seems common for apps on Google Play to be designed more for practical purposes (family, tools, business, lifestyle, productivity, finance, etc.) than fun.\n",
    "\n",
    "Next, I'll generate the frequency table for the `'Genres'` column in the Google Play data set."
   ]
  },
  {
   "cell_type": "code",
   "execution_count": 21,
   "metadata": {},
   "outputs": [
    {
     "name": "stdout",
     "output_type": "stream",
     "text": [
      "Tools: 8.45%\n",
      "Entertainment: 6.07%\n",
      "Education: 5.35%\n",
      "Business: 4.59%\n",
      "Productivity: 3.89%\n",
      "Lifestyle: 3.89%\n",
      "Finance: 3.7%\n",
      "Medical: 3.53%\n",
      "Sports: 3.46%\n",
      "Personalization: 3.32%\n",
      "Communication: 3.24%\n",
      "Action: 3.1%\n",
      "Health & Fitness: 3.08%\n",
      "Photography: 2.94%\n",
      "News & Magazines: 2.8%\n",
      "Social: 2.66%\n",
      "Travel & Local: 2.32%\n",
      "Shopping: 2.25%\n",
      "Books & Reference: 2.14%\n",
      "Simulation: 2.04%\n",
      "Dating: 1.86%\n",
      "Arcade: 1.85%\n",
      "Video Players & Editors: 1.77%\n",
      "Casual: 1.76%\n",
      "Maps & Navigation: 1.4%\n",
      "Food & Drink: 1.24%\n",
      "Puzzle: 1.13%\n",
      "Racing: 0.99%\n",
      "Role Playing: 0.94%\n",
      "Libraries & Demo: 0.94%\n",
      "Auto & Vehicles: 0.93%\n",
      "Strategy: 0.91%\n",
      "House & Home: 0.82%\n",
      "Weather: 0.8%\n",
      "Events: 0.71%\n",
      "Adventure: 0.68%\n",
      "Comics: 0.61%\n",
      "Beauty: 0.6%\n",
      "Art & Design: 0.6%\n",
      "Parenting: 0.5%\n",
      "Card: 0.45%\n",
      "Casino: 0.43%\n",
      "Trivia: 0.42%\n",
      "Educational;Education: 0.39%\n",
      "Board: 0.38%\n",
      "Educational: 0.37%\n",
      "Education;Education: 0.34%\n",
      "Word: 0.26%\n",
      "Casual;Pretend Play: 0.24%\n",
      "Music: 0.2%\n",
      "Racing;Action & Adventure: 0.17%\n",
      "Puzzle;Brain Games: 0.17%\n",
      "Entertainment;Music & Video: 0.17%\n",
      "Casual;Brain Games: 0.14%\n",
      "Casual;Action & Adventure: 0.14%\n",
      "Arcade;Action & Adventure: 0.12%\n",
      "Action;Action & Adventure: 0.1%\n",
      "Educational;Pretend Play: 0.09%\n",
      "Simulation;Action & Adventure: 0.08%\n",
      "Parenting;Education: 0.08%\n",
      "Entertainment;Brain Games: 0.08%\n",
      "Board;Brain Games: 0.08%\n",
      "Parenting;Music & Video: 0.07%\n",
      "Educational;Brain Games: 0.07%\n",
      "Casual;Creativity: 0.07%\n",
      "Art & Design;Creativity: 0.07%\n",
      "Education;Pretend Play: 0.06%\n",
      "Role Playing;Pretend Play: 0.05%\n",
      "Education;Creativity: 0.05%\n",
      "Role Playing;Action & Adventure: 0.03%\n",
      "Puzzle;Action & Adventure: 0.03%\n",
      "Entertainment;Creativity: 0.03%\n",
      "Entertainment;Action & Adventure: 0.03%\n",
      "Educational;Creativity: 0.03%\n",
      "Educational;Action & Adventure: 0.03%\n",
      "Education;Music & Video: 0.03%\n",
      "Education;Brain Games: 0.03%\n",
      "Education;Action & Adventure: 0.03%\n",
      "Adventure;Action & Adventure: 0.03%\n",
      "Video Players & Editors;Music & Video: 0.02%\n",
      "Sports;Action & Adventure: 0.02%\n",
      "Simulation;Pretend Play: 0.02%\n",
      "Puzzle;Creativity: 0.02%\n",
      "Music;Music & Video: 0.02%\n",
      "Entertainment;Pretend Play: 0.02%\n",
      "Casual;Education: 0.02%\n",
      "Board;Action & Adventure: 0.02%\n",
      "Video Players & Editors;Creativity: 0.01%\n",
      "Trivia;Education: 0.01%\n",
      "Travel & Local;Action & Adventure: 0.01%\n",
      "Tools;Education: 0.01%\n",
      "Strategy;Education: 0.01%\n",
      "Strategy;Creativity: 0.01%\n",
      "Strategy;Action & Adventure: 0.01%\n",
      "Simulation;Education: 0.01%\n",
      "Role Playing;Brain Games: 0.01%\n",
      "Racing;Pretend Play: 0.01%\n",
      "Puzzle;Education: 0.01%\n",
      "Parenting;Brain Games: 0.01%\n",
      "Music & Audio;Music & Video: 0.01%\n",
      "Lifestyle;Pretend Play: 0.01%\n",
      "Lifestyle;Education: 0.01%\n",
      "Health & Fitness;Education: 0.01%\n",
      "Health & Fitness;Action & Adventure: 0.01%\n",
      "Entertainment;Education: 0.01%\n",
      "Communication;Creativity: 0.01%\n",
      "Comics;Creativity: 0.01%\n",
      "Casual;Music & Video: 0.01%\n",
      "Card;Action & Adventure: 0.01%\n",
      "Books & Reference;Education: 0.01%\n",
      "Art & Design;Pretend Play: 0.01%\n",
      "Art & Design;Action & Adventure: 0.01%\n",
      "Arcade;Pretend Play: 0.01%\n",
      "Adventure;Education: 0.01%\n"
     ]
    }
   ],
   "source": [
    "display_table(android_final, -4)"
   ]
  },
  {
   "cell_type": "markdown",
   "metadata": {},
   "source": [
    "As you can see in the results above, tool apps, entertainment apps, and educational apps are frequent on Google Play. Just like the most common categories, the app genres on Google Play are made up of more hands-on content (besides the decent amount of entertainment apps). Obviously, there aren't very many differences between Google Play's categories and genres. However, the genres are more granular than the categories (there are a lot more genres than categories). Because I'm looking for the bigger picture at the moment, I'll stick to working with just the `'Category'` column moving forward.\n",
    "\n",
    "Finally, I'll output the frequency table for the `'prime_genre'` column in the App Store data set."
   ]
  },
  {
   "cell_type": "code",
   "execution_count": 22,
   "metadata": {},
   "outputs": [
    {
     "name": "stdout",
     "output_type": "stream",
     "text": [
      "Games: 58.16%\n",
      "Entertainment: 7.88%\n",
      "Photo & Video: 4.97%\n",
      "Education: 3.66%\n",
      "Social Networking: 3.29%\n",
      "Shopping: 2.61%\n",
      "Utilities: 2.51%\n",
      "Sports: 2.14%\n",
      "Music: 2.05%\n",
      "Health & Fitness: 2.02%\n",
      "Productivity: 1.74%\n",
      "Lifestyle: 1.58%\n",
      "News: 1.33%\n",
      "Travel: 1.24%\n",
      "Finance: 1.12%\n",
      "Weather: 0.87%\n",
      "Food & Drink: 0.81%\n",
      "Reference: 0.56%\n",
      "Business: 0.53%\n",
      "Book: 0.43%\n",
      "Navigation: 0.19%\n",
      "Medical: 0.19%\n",
      "Catalogs: 0.12%\n"
     ]
    }
   ],
   "source": [
    "display_table(ios_final, -5)"
   ]
  },
  {
   "cell_type": "markdown",
   "metadata": {},
   "source": [
    "According to the data generated above, the most common apps reside in the `'Games'` genre by a long shot. In fact, almost 60% of the apps in the data set are gaming apps. The runner-up is `'Entertainment'`, which isn't far off from gaming apps. As you can probably tell, this greatly contrasts with the popularity of practical categories and genres on Google Play.\n",
    "\n",
    "Up to this point, I found that the App Store is dominated by apps designed for fun. Yet the Google Play market shows a more balanced landscape of both practical and for-fun apps (but mostly practical apps).\n",
    "\n",
    "## Most Popular Apps by Genre on the App Store\n",
    "\n",
    "Now, I'd like to get an idea about the kinds of apps with the most users.\n",
    "\n",
    "One way to find out what genres are the most popular (have the most users) is to calculate the average number of installs for each app genre. For the Google Play data set, I can find this information in the `'Installs'` column, but this information is missing for the App Store data set. As a workaround, I'll take the total number of user ratings as a proxy, which can be found in the `'rating_count_tot'` column.\n",
    "\n",
    "I'll start with calculating the average number of user ratings per app genre on the App Store."
   ]
  },
  {
   "cell_type": "code",
   "execution_count": 23,
   "metadata": {},
   "outputs": [
    {
     "name": "stdout",
     "output_type": "stream",
     "text": [
      "Social Networking: 71548.35\n",
      "Photo & Video: 28441.54\n",
      "Games: 22788.67\n",
      "Music: 57326.53\n",
      "Reference: 74942.11\n",
      "Health & Fitness: 23298.02\n",
      "Weather: 52279.89\n",
      "Utilities: 18684.46\n",
      "Travel: 28243.8\n",
      "Shopping: 26919.69\n",
      "News: 21248.02\n",
      "Navigation: 86090.33\n",
      "Lifestyle: 16485.76\n",
      "Entertainment: 14029.83\n",
      "Food & Drink: 33333.92\n",
      "Sports: 23008.9\n",
      "Book: 39758.5\n",
      "Finance: 31467.94\n",
      "Education: 7003.98\n",
      "Productivity: 21028.41\n",
      "Business: 7491.12\n",
      "Catalogs: 4004.0\n",
      "Medical: 612.0\n"
     ]
    }
   ],
   "source": [
    "genres_ios = freq_table(ios_final, -5)\n",
    "\n",
    "for genre in genres_ios:\n",
    "    total = 0\n",
    "    len_genre = 0\n",
    "    \n",
    "    for app in ios_final:\n",
    "        genre_app = app[-5]\n",
    "        \n",
    "        if genre_app == genre:\n",
    "            n_ratings = float(app[5])\n",
    "            total += n_ratings\n",
    "            len_genre += 1\n",
    "    \n",
    "    avg_n_ratings = total / len_genre\n",
    "    \n",
    "    print('{}: {}'.format(genre, round(avg_n_ratings, 2)))"
   ]
  },
  {
   "cell_type": "markdown",
   "metadata": {},
   "source": [
    "On average, apps in the `'Navigation'` genre have the highest number of ratings at a little over 86,000 ratings. However, as you can see in the output below, this large number is heavily influenced by Waze and Google Maps. In fact, these two apps have a combined rating count of almost half a million ratings."
   ]
  },
  {
   "cell_type": "code",
   "execution_count": 24,
   "metadata": {},
   "outputs": [
    {
     "name": "stdout",
     "output_type": "stream",
     "text": [
      "Waze - GPS Navigation, Maps & Real-time Traffic: 345046\n",
      "Google Maps - Navigation & Transit: 154911\n",
      "Geocaching®: 12811\n",
      "CoPilot GPS – Car Navigation & Offline Maps: 3582\n",
      "ImmobilienScout24: Real Estate Search in Germany: 187\n",
      "Railway Route Search: 5\n"
     ]
    }
   ],
   "source": [
    "for app in ios_final:\n",
    "    name = app[1]\n",
    "    genre = app[-5]\n",
    "    n_ratings = app[5]\n",
    "    \n",
    "    if genre == 'Navigation':\n",
    "        print('{}: {}'.format(name, n_ratings))"
   ]
  },
  {
   "cell_type": "markdown",
   "metadata": {},
   "source": [
    "This doesn't make for a very good app profile recommendation for the App Store. Unsurprisingly, the same pattern applies to social networking apps where giants like Facebook, Pinterest, and Skype greatly affect the average number of ratings. This is also true when it comes to music apps; there are a few big players like Pandora, Spotify, and Shazam.\n",
    "\n",
    "These popular apps make their genres seem more popular than they really are. The majority of apps in these genres don't even or barely have more than 10,000 ratings.\n",
    "\n",
    "Again, reference apps have a large amount of combined ratings, but kings like the Bible and Dictionary.com make this average inaccurate toward the other apps in this same genre."
   ]
  },
  {
   "cell_type": "code",
   "execution_count": 25,
   "metadata": {},
   "outputs": [
    {
     "name": "stdout",
     "output_type": "stream",
     "text": [
      "Bible: 985920\n",
      "Dictionary.com Dictionary & Thesaurus: 200047\n",
      "Dictionary.com Dictionary & Thesaurus for iPad: 54175\n",
      "Google Translate: 26786\n",
      "Muslim Pro: Ramadan 2017 Prayer Times, Azan, Quran: 18418\n",
      "New Furniture Mods - Pocket Wiki & Game Tools for Minecraft PC Edition: 17588\n",
      "Merriam-Webster Dictionary: 16849\n",
      "Night Sky: 12122\n",
      "City Maps for Minecraft PE - The Best Maps for Minecraft Pocket Edition (MCPE): 8535\n",
      "LUCKY BLOCK MOD ™ for Minecraft PC Edition - The Best Pocket Wiki & Mods Installer Tools: 4693\n",
      "GUNS MODS for Minecraft PC Edition - Mods Tools: 1497\n",
      "Guides for Pokémon GO - Pokemon GO News and Cheats: 826\n",
      "WWDC: 762\n",
      "Horror Maps for Minecraft PE - Download The Scariest Maps for Minecraft Pocket Edition (MCPE) Free: 718\n",
      "VPN Express: 14\n",
      "Real Bike Traffic Rider Virtual Reality Glasses: 8\n",
      "教えて!goo: 0\n",
      "Jishokun-Japanese English Dictionary & Translator: 0\n"
     ]
    }
   ],
   "source": [
    "for app in ios_final:\n",
    "    name = app[1]\n",
    "    genre = app[-5]\n",
    "    n_ratings = app[5]\n",
    "    \n",
    "    if genre == 'Reference':\n",
    "        print('{}: {}'.format(name, n_ratings))"
   ]
  },
  {
   "cell_type": "markdown",
   "metadata": {},
   "source": [
    "However, compared to the other options, an app based on books actually has a lot of potential. One or more popular books could be turned into an app where the user could do more than just read the books. They could experience many special and interactive features: daily quotes from the books, audio versions of the books, quizzes about the books, and even an embedded dictionary (so that the user could look up words right within the app).\n",
    "\n",
    "Another reason that this idea stands out is that it differs from the saturated market of for-fun apps within the App Store. Perhaps a more practical app would be just the thing to compete with a market dominated by apps designed for amusement. Additionally, imagine one of the books in the app being about business. This picture shows how this app could be extremely inclusive of a variety of other genres.\n",
    "\n",
    "The `'Book'` genre seems to overlap a bit with the app I described above. Yet besides that, although some of the other genres may be popular, they either require a lot of resources, don't support in-app ads very well, aren't used too often, or are just outside the scope of this company.\n",
    "\n",
    "## Most Popular Apps by Genre on Google Play\n",
    "\n",
    "I have data about the number of installs for the Google Play market, so I should be able to get a clearer picture about genre popularity. However, the install numbers don't seem precise enough — most values are open-ended (100+, 1,000+, 5,000+, etc.)."
   ]
  },
  {
   "cell_type": "code",
   "execution_count": 26,
   "metadata": {},
   "outputs": [
    {
     "name": "stdout",
     "output_type": "stream",
     "text": [
      "1,000,000+: 15.73%\n",
      "100,000+: 11.55%\n",
      "10,000,000+: 10.55%\n",
      "10,000+: 10.2%\n",
      "1,000+: 8.39%\n",
      "100+: 6.92%\n",
      "5,000,000+: 6.83%\n",
      "500,000+: 5.56%\n",
      "50,000+: 4.77%\n",
      "5,000+: 4.51%\n",
      "10+: 3.54%\n",
      "500+: 3.25%\n",
      "50,000,000+: 2.3%\n",
      "100,000,000+: 2.13%\n",
      "50+: 1.92%\n",
      "5+: 0.79%\n",
      "1+: 0.51%\n",
      "500,000,000+: 0.27%\n",
      "1,000,000,000+: 0.23%\n",
      "0+: 0.05%\n",
      "0: 0.01%\n"
     ]
    }
   ],
   "source": [
    "display_table(android_final, 5)"
   ]
  },
  {
   "cell_type": "markdown",
   "metadata": {},
   "source": [
    "For instance, I don't know whether an app with 100,000+ installs has 100,000 installs, 200,000, or 350,000. However, I don't need very precise data for my purposes — I only want to find out which app genres attract the most users, and I don't need perfect precision with respect to the number of users.\n",
    "\n",
    "I'm going to leave the numbers as they are. This means that, for example, I'll consider that an app with 100,000+ installs has 100,000 installs, and an app with 1,000,000+ installs has 1,000,000 installs. To perform computations, however, I'll need to convert each install number from a string to a float. This means that I need to remove the commas and plus characters, otherwise the conversion will fail and raise an error. I'll do this now, and I'll also compute the average number of installs for each category (genre)."
   ]
  },
  {
   "cell_type": "code",
   "execution_count": 27,
   "metadata": {},
   "outputs": [
    {
     "name": "stdout",
     "output_type": "stream",
     "text": [
      "ART_AND_DESIGN: 1986335.09\n",
      "AUTO_AND_VEHICLES: 647317.82\n",
      "BEAUTY: 513151.89\n",
      "BOOKS_AND_REFERENCE: 8767811.89\n",
      "BUSINESS: 1712290.15\n",
      "COMICS: 817657.27\n",
      "COMMUNICATION: 38456119.17\n",
      "DATING: 854028.83\n",
      "EDUCATION: 1833495.15\n",
      "ENTERTAINMENT: 11640705.88\n",
      "EVENTS: 253542.22\n",
      "FINANCE: 1387692.48\n",
      "FOOD_AND_DRINK: 1924897.74\n",
      "HEALTH_AND_FITNESS: 4188821.99\n",
      "HOUSE_AND_HOME: 1331540.56\n",
      "LIBRARIES_AND_DEMO: 638503.73\n",
      "LIFESTYLE: 1437816.27\n",
      "GAME: 15588015.6\n",
      "FAMILY: 3695641.82\n",
      "MEDICAL: 120550.62\n",
      "SOCIAL: 23253652.13\n",
      "SHOPPING: 7036877.31\n",
      "PHOTOGRAPHY: 17840110.4\n",
      "SPORTS: 3638640.14\n",
      "TRAVEL_AND_LOCAL: 13984077.71\n",
      "TOOLS: 10801391.3\n",
      "PERSONALIZATION: 5201482.61\n",
      "PRODUCTIVITY: 16787331.34\n",
      "PARENTING: 542603.62\n",
      "WEATHER: 5074486.2\n",
      "VIDEO_PLAYERS: 24727872.45\n",
      "NEWS_AND_MAGAZINES: 9549178.47\n",
      "MAPS_AND_NAVIGATION: 4056941.77\n"
     ]
    }
   ],
   "source": [
    "categories_android = freq_table(android_final, 1)\n",
    "\n",
    "for category in categories_android:\n",
    "    total = 0\n",
    "    len_category = 0\n",
    "    \n",
    "    for app in android_final:\n",
    "        category_app = app[1]\n",
    "        \n",
    "        if category_app == category:\n",
    "            n_installs = app[5]\n",
    "            n_installs = n_installs.replace(',', '')\n",
    "            n_installs = n_installs.replace('+', '')\n",
    "            \n",
    "            total += float(n_installs)\n",
    "            len_category += 1\n",
    "    \n",
    "    avg_n_installs = total / len_category\n",
    "    \n",
    "    print('{}: {}'.format(category, round(avg_n_installs, 2)))"
   ]
  },
  {
   "cell_type": "markdown",
   "metadata": {},
   "source": [
    "Once again, my aim is to recommend an app genre that shows potential for being profitable on both the App Store and Google Play. So, I'll try to come to a conclusion on at least one app profile recommendation that works for both the App Store and Google Play.\n",
    "\n",
    "On average, communication apps have the most installs. However, if you investigate these apps, you'll find that the category's mass amount of installs is mostly populated by just a small amount of apps (WhatsApp, Facebook Messenger, Skype, Google Chrome, Gmail, Hangouts, etc.)."
   ]
  },
  {
   "cell_type": "code",
   "execution_count": 28,
   "metadata": {},
   "outputs": [
    {
     "name": "stdout",
     "output_type": "stream",
     "text": [
      "WhatsApp Messenger: 1,000,000,000+\n",
      "imo beta free calls and text: 100,000,000+\n",
      "Android Messages: 100,000,000+\n",
      "Google Duo - High Quality Video Calls: 500,000,000+\n",
      "Messenger – Text and Video Chat for Free: 1,000,000,000+\n",
      "imo free video calls and chat: 500,000,000+\n",
      "Skype - free IM & video calls: 1,000,000,000+\n",
      "Who: 100,000,000+\n",
      "GO SMS Pro - Messenger, Free Themes, Emoji: 100,000,000+\n",
      "LINE: Free Calls & Messages: 500,000,000+\n",
      "Google Chrome: Fast & Secure: 1,000,000,000+\n",
      "Firefox Browser fast & private: 100,000,000+\n",
      "UC Browser - Fast Download Private & Secure: 500,000,000+\n",
      "Gmail: 1,000,000,000+\n",
      "Hangouts: 1,000,000,000+\n",
      "Messenger Lite: Free Calls & Messages: 100,000,000+\n",
      "Kik: 100,000,000+\n",
      "KakaoTalk: Free Calls & Text: 100,000,000+\n",
      "Opera Mini - fast web browser: 100,000,000+\n",
      "Opera Browser: Fast and Secure: 100,000,000+\n",
      "Telegram: 100,000,000+\n",
      "Truecaller: Caller ID, SMS spam blocking & Dialer: 100,000,000+\n",
      "UC Browser Mini -Tiny Fast Private & Secure: 100,000,000+\n",
      "Viber Messenger: 500,000,000+\n",
      "WeChat: 100,000,000+\n",
      "Yahoo Mail – Stay Organized: 100,000,000+\n",
      "BBM - Free Calls & Messages: 100,000,000+\n"
     ]
    }
   ],
   "source": [
    "for app in android_final:\n",
    "    category = app[1]\n",
    "    \n",
    "    if category == 'COMMUNICATION':\n",
    "        installs = app[5]\n",
    "        \n",
    "        if installs == '1,000,000,000+' or installs == '500,000,000+' or installs == '100,000,000+':\n",
    "            name = app[0]\n",
    "            print('{}: {}'.format(name, installs))"
   ]
  },
  {
   "cell_type": "markdown",
   "metadata": {},
   "source": [
    "You'll see that if I remove all the communication apps that have over 100,000,000 installs, the average would be reduced roughly ten times."
   ]
  },
  {
   "cell_type": "code",
   "execution_count": 29,
   "metadata": {},
   "outputs": [
    {
     "name": "stdout",
     "output_type": "stream",
     "text": [
      "COMMUNICATION: 3603485.39\n"
     ]
    }
   ],
   "source": [
    "under_100_m = []\n",
    "\n",
    "for app in android_final:\n",
    "    category = app[1]\n",
    "    \n",
    "    if category == 'COMMUNICATION':\n",
    "        n_installs = app[5]\n",
    "        n_installs = n_installs.replace(',', '')\n",
    "        n_installs = n_installs.replace('+', '')\n",
    "        n_installs = float(n_installs)\n",
    "        \n",
    "        if n_installs < 100000000:\n",
    "            under_100_m.append(n_installs)\n",
    "            \n",
    "print('COMMUNICATION:', round(sum(under_100_m) / len(under_100_m), 2))"
   ]
  },
  {
   "cell_type": "markdown",
   "metadata": {},
   "source": [
    "This same pattern occurs for the category of video player apps (the runner-up with 24,727,872 installs). The market is dominated by apps like Youtube, Google Play Movies & TV, and MX Player. This pattern can also be seen when it comes to social apps (where there are giants like Facebook, Instagram, Google+, etc.), photography apps (Google Photos and other popular photo editors), and productivity apps (Microsoft Word, Dropbox, Google Calendar, Evernote, etc.).\n",
    "\n",
    "Again, the crystal clear problem is that these app categories appear to be more popular than they actually are. Furthermore, these niches are vividly overpowered by a few giants who are nearly impossible to compete against.\n",
    "\n",
    "The category of games is obviously pretty popular, but previously I found out that this part of the market is a bit saturated, so it would probably be better to come up with a different app recommendation if possible.\n",
    "\n",
    "The `'BOOKS_AND_REFERENCE'` category looks fairly popular as well, as it holds an average number of installs of 8,767,811. It's interesting to explore this in more depth since I found that this category (a lot like the genre from the App Store) has potential to be the best candidate.\n",
    "\n",
    "Now, I'll take a look at some of the apps from this category and their number of installs."
   ]
  },
  {
   "cell_type": "code",
   "execution_count": 30,
   "metadata": {},
   "outputs": [
    {
     "name": "stdout",
     "output_type": "stream",
     "text": [
      "E-Book Read - Read Book for free: 50,000+\n",
      "Download free book with green book: 100,000+\n",
      "Wikipedia: 10,000,000+\n",
      "Cool Reader: 10,000,000+\n",
      "Free Panda Radio Music: 100,000+\n",
      "Book store: 1,000,000+\n",
      "FBReader: Favorite Book Reader: 10,000,000+\n",
      "English Grammar Complete Handbook: 500,000+\n",
      "Free Books - Spirit Fanfiction and Stories: 1,000,000+\n",
      "Google Play Books: 1,000,000,000+\n",
      "AlReader -any text book reader: 5,000,000+\n",
      "Offline English Dictionary: 100,000+\n",
      "Offline: English to Tagalog Dictionary: 500,000+\n",
      "FamilySearch Tree: 1,000,000+\n",
      "Cloud of Books: 1,000,000+\n",
      "Recipes of Prophetic Medicine for free: 500,000+\n",
      "ReadEra – free ebook reader: 1,000,000+\n",
      "Anonymous caller detection: 10,000+\n",
      "Ebook Reader: 5,000,000+\n",
      "Litnet - E-books: 100,000+\n",
      "Read books online: 5,000,000+\n",
      "English to Urdu Dictionary: 500,000+\n",
      "eBoox: book reader fb2 epub zip: 1,000,000+\n",
      "English Persian Dictionary: 500,000+\n",
      "Flybook: 500,000+\n",
      "All Maths Formulas: 1,000,000+\n",
      "Ancestry: 5,000,000+\n",
      "HTC Help: 10,000,000+\n",
      "English translation from Bengali: 100,000+\n",
      "Pdf Book Download - Read Pdf Book: 100,000+\n",
      "Free Book Reader: 100,000+\n",
      "eBoox new: Reader for fb2 epub zip books: 50,000+\n",
      "Only 30 days in English, the guideline is guaranteed: 500,000+\n",
      "Moon+ Reader: 10,000,000+\n",
      "SH-02J Owner's Manual (Android 8.0): 50,000+\n",
      "English-Myanmar Dictionary: 1,000,000+\n",
      "Golden Dictionary (EN-AR): 1,000,000+\n",
      "All Language Translator Free: 1,000,000+\n",
      "Azpen eReader: 500,000+\n",
      "URBANO V 02 instruction manual: 100,000+\n",
      "Bible: 100,000,000+\n",
      "C Programs and Reference: 50,000+\n",
      "C Offline Tutorial: 1,000+\n",
      "C Programs Handbook: 50,000+\n",
      "Amazon Kindle: 100,000,000+\n",
      "Aab e Hayat Full Novel: 100,000+\n",
      "Aldiko Book Reader: 10,000,000+\n",
      "Google I/O 2018: 500,000+\n",
      "R Language Reference Guide: 10,000+\n",
      "Learn R Programming Full: 5,000+\n",
      "R Programing Offline Tutorial: 1,000+\n",
      "Guide for R Programming: 5+\n",
      "Learn R Programming: 10+\n",
      "R Quick Reference Big Data: 1,000+\n",
      "V Made: 100,000+\n",
      "Wattpad 📖 Free Books: 100,000,000+\n",
      "Dictionary - WordWeb: 5,000,000+\n",
      "Guide (for X-MEN): 100,000+\n",
      "AC Air condition Troubleshoot,Repair,Maintenance: 5,000+\n",
      "AE Bulletins: 1,000+\n",
      "Ae Allah na Dai (Rasa): 10,000+\n",
      "50000 Free eBooks & Free AudioBooks: 5,000,000+\n",
      "Ag PhD Field Guide: 10,000+\n",
      "Ag PhD Deficiencies: 10,000+\n",
      "Ag PhD Planting Population Calculator: 1,000+\n",
      "Ag PhD Soybean Diseases: 1,000+\n",
      "Fertilizer Removal By Crop: 50,000+\n",
      "A-J Media Vault: 50+\n",
      "Al-Quran (Free): 10,000,000+\n",
      "Al Quran (Tafsir & by Word): 500,000+\n",
      "Al Quran Indonesia: 10,000,000+\n",
      "Al'Quran Bahasa Indonesia: 10,000,000+\n",
      "Al Quran Al karim: 1,000,000+\n",
      "Al-Muhaffiz: 50,000+\n",
      "Al Quran : EAlim - Translations & MP3 Offline: 5,000,000+\n",
      "Al-Quran 30 Juz free copies: 500,000+\n",
      "Koran Read &MP3 30 Juz Offline: 1,000,000+\n",
      "Hafizi Quran 15 lines per page: 1,000,000+\n",
      "Quran for Android: 10,000,000+\n",
      "Surah Al-Waqiah: 100,000+\n",
      "Hisnul Al Muslim - Hisn Invocations & Adhkaar: 100,000+\n",
      "Satellite AR: 1,000,000+\n",
      "Audiobooks from Audible: 100,000,000+\n",
      "Kinot & Eichah for Tisha B'Av: 10,000+\n",
      "AW Tozer Devotionals - Daily: 5,000+\n",
      "Tozer Devotional -Series 1: 1,000+\n",
      "The Pursuit of God: 1,000+\n",
      "AY Sing: 5,000+\n",
      "Ay Hasnain k Nana Milad Naat: 10,000+\n",
      "Ay Mohabbat Teri Khatir Novel: 10,000+\n",
      "Arizona Statutes, ARS (AZ Law): 1,000+\n",
      "Oxford A-Z of English Usage: 1,000,000+\n",
      "BD Fishpedia: 1,000+\n",
      "BD All Sim Offer: 10,000+\n",
      "Youboox - Livres, BD et magazines: 500,000+\n",
      "B&H Kids AR: 10,000+\n",
      "B y H Niños ES: 5,000+\n",
      "Dictionary.com: Find Definitions for English Words: 10,000,000+\n",
      "English Dictionary - Offline: 10,000,000+\n",
      "Bible KJV: 5,000,000+\n",
      "Borneo Bible, BM Bible: 10,000+\n",
      "MOD Black for BM: 100+\n",
      "BM Box: 1,000+\n",
      "Anime Mod for BM: 100+\n",
      "NOOK: Read eBooks & Magazines: 10,000,000+\n",
      "NOOK Audiobooks: 500,000+\n",
      "NOOK App for NOOK Devices: 500,000+\n",
      "Browsery by Barnes & Noble: 5,000+\n",
      "bp e-store: 1,000+\n",
      "Brilliant Quotes: Life, Love, Family & Motivation: 1,000,000+\n",
      "BR Ambedkar Biography & Quotes: 10,000+\n",
      "BU Alsace: 100+\n",
      "Catholic La Bu Zo Kam: 500+\n",
      "Khrifa Hla Bu (Solfa): 10+\n",
      "Kristian Hla Bu: 10,000+\n",
      "SA HLA BU: 1,000+\n",
      "Learn SAP BW: 500+\n",
      "Learn SAP BW on HANA: 500+\n",
      "CA Laws 2018 (California Laws and Codes): 5,000+\n",
      "Bootable Methods(USB-CD-DVD): 10,000+\n",
      "cloudLibrary: 100,000+\n",
      "SDA Collegiate Quarterly: 500+\n",
      "Sabbath School: 100,000+\n",
      "Cypress College Library: 100+\n",
      "Stats Royale for Clash Royale: 1,000,000+\n",
      "GATE 21 years CS Papers(2011-2018 Solved): 50+\n",
      "Learn CT Scan Of Head: 5,000+\n",
      "Easy Cv maker 2018: 10,000+\n",
      "How to Write CV: 100,000+\n",
      "CW Nuclear: 1,000+\n",
      "CY Spray nozzle: 10+\n",
      "BibleRead En Cy Zh Yue: 5+\n",
      "CZ-Help: 5+\n",
      "Modlitební knížka CZ: 500+\n",
      "Guide for DB Xenoverse: 10,000+\n",
      "Guide for DB Xenoverse 2: 10,000+\n",
      "Guide for IMS DB: 10+\n",
      "DC HSEMA: 5,000+\n",
      "DC Public Library: 1,000+\n",
      "Painting Lulu DC Super Friends: 1,000+\n",
      "Dictionary: 10,000,000+\n",
      "Fix Error Google Playstore: 1,000+\n",
      "D. H. Lawrence Poems FREE: 1,000+\n",
      "Bilingual Dictionary Audio App: 5,000+\n",
      "DM Screen: 10,000+\n",
      "wikiHow: how to do anything: 1,000,000+\n",
      "Dr. Doug's Tips: 1,000+\n",
      "Bible du Semeur-BDS (French): 50,000+\n",
      "La citadelle du musulman: 50,000+\n",
      "DV 2019 Entry Guide: 10,000+\n",
      "DV 2019 - EDV Photo & Form: 50,000+\n",
      "DV 2018 Winners Guide: 1,000+\n",
      "EB Annual Meetings: 1,000+\n",
      "EC - AP & Telangana: 5,000+\n",
      "TN Patta Citta & EC: 10,000+\n",
      "AP Stamps and Registration: 10,000+\n",
      "CompactiMa EC pH Calibration: 100+\n",
      "EGW Writings 2: 100,000+\n",
      "EGW Writings: 1,000,000+\n",
      "Bible with EGW Comments: 100,000+\n",
      "My Little Pony AR Guide: 1,000,000+\n",
      "SDA Sabbath School Quarterly: 500,000+\n",
      "Duaa Ek Ibaadat: 5,000+\n",
      "Spanish English Translator: 10,000,000+\n",
      "Dictionary - Merriam-Webster: 10,000,000+\n",
      "JW Library: 10,000,000+\n",
      "Oxford Dictionary of English : Free: 10,000,000+\n",
      "English Hindi Dictionary: 10,000,000+\n",
      "English to Hindi Dictionary: 5,000,000+\n",
      "EP Research Service: 1,000+\n",
      "Hymnes et Louanges: 100,000+\n",
      "EU Charter: 1,000+\n",
      "EU Data Protection: 1,000+\n",
      "EU IP Codes: 100+\n",
      "EW PDF: 5+\n",
      "BakaReader EX: 100,000+\n",
      "EZ Quran: 50,000+\n",
      "FA Part 1 & 2 Past Papers Solved Free – Offline: 5,000+\n",
      "La Fe de Jesus: 1,000+\n",
      "La Fe de Jesús: 500+\n",
      "Le Fe de Jesus: 500+\n",
      "Florida - Pocket Brainbook: 1,000+\n",
      "Florida Statutes (FL Code): 1,000+\n",
      "English To Shona Dictionary: 10,000+\n",
      "Greek Bible FP (Audio): 1,000+\n",
      "Golden Dictionary (FR-AR): 500,000+\n",
      "Fanfic-FR: 5,000+\n",
      "Bulgarian French Dictionary Fr: 10,000+\n",
      "Chemin (fr): 1,000+\n",
      "The SCP Foundation DB fr nn5n: 1,000+\n"
     ]
    }
   ],
   "source": [
    "for app in android_final:\n",
    "    category = app[1]\n",
    "    \n",
    "    if category == 'BOOKS_AND_REFERENCE':\n",
    "        name = app[0]\n",
    "        n_installs = app[5]\n",
    "        \n",
    "        print('{}: {}'.format(name, n_installs))"
   ]
  },
  {
   "cell_type": "markdown",
   "metadata": {},
   "source": [
    "This category includes a large variety of apps: software for processing and reading ebooks, various collections of libraries, dictionaries, tutorials on programming or languages, and more. However, there's still a small number of extremely popular apps that skew the average."
   ]
  },
  {
   "cell_type": "code",
   "execution_count": 31,
   "metadata": {},
   "outputs": [
    {
     "name": "stdout",
     "output_type": "stream",
     "text": [
      "Google Play Books: 1,000,000,000+\n",
      "Bible: 100,000,000+\n",
      "Amazon Kindle: 100,000,000+\n",
      "Wattpad 📖 Free Books: 100,000,000+\n",
      "Audiobooks from Audible: 100,000,000+\n"
     ]
    }
   ],
   "source": [
    "for app in android_final:\n",
    "    category = app[1]\n",
    "    \n",
    "    if category == 'BOOKS_AND_REFERENCE':\n",
    "        n_installs = app[5]\n",
    "        \n",
    "        if n_installs == '1,000,000,000+' or n_installs == '500,000,000+' or n_installs == '100,000,000+':\n",
    "            name = app[0]\n",
    "            print('{}: {}'.format(name, n_installs))"
   ]
  },
  {
   "cell_type": "markdown",
   "metadata": {},
   "source": [
    "Since there are only a small amount of very popular apps, this market still shows potential. I'll explore a little more here by trying to get some app ideas based on the kinds of apps that are somewhere in the middle (sweet spot) in terms of popularity (between 1,000,000 and 100,000,000 downloads)."
   ]
  },
  {
   "cell_type": "code",
   "execution_count": 32,
   "metadata": {},
   "outputs": [
    {
     "name": "stdout",
     "output_type": "stream",
     "text": [
      "Wikipedia: 10,000,000+\n",
      "Cool Reader: 10,000,000+\n",
      "Book store: 1,000,000+\n",
      "FBReader: Favorite Book Reader: 10,000,000+\n",
      "Free Books - Spirit Fanfiction and Stories: 1,000,000+\n",
      "AlReader -any text book reader: 5,000,000+\n",
      "FamilySearch Tree: 1,000,000+\n",
      "Cloud of Books: 1,000,000+\n",
      "ReadEra – free ebook reader: 1,000,000+\n",
      "Ebook Reader: 5,000,000+\n",
      "Read books online: 5,000,000+\n",
      "eBoox: book reader fb2 epub zip: 1,000,000+\n",
      "All Maths Formulas: 1,000,000+\n",
      "Ancestry: 5,000,000+\n",
      "HTC Help: 10,000,000+\n",
      "Moon+ Reader: 10,000,000+\n",
      "English-Myanmar Dictionary: 1,000,000+\n",
      "Golden Dictionary (EN-AR): 1,000,000+\n",
      "All Language Translator Free: 1,000,000+\n",
      "Bible: 100,000,000+\n",
      "Amazon Kindle: 100,000,000+\n",
      "Aldiko Book Reader: 10,000,000+\n",
      "Wattpad 📖 Free Books: 100,000,000+\n",
      "Dictionary - WordWeb: 5,000,000+\n",
      "50000 Free eBooks & Free AudioBooks: 5,000,000+\n",
      "Al-Quran (Free): 10,000,000+\n",
      "Al Quran Indonesia: 10,000,000+\n",
      "Al'Quran Bahasa Indonesia: 10,000,000+\n",
      "Al Quran Al karim: 1,000,000+\n",
      "Al Quran : EAlim - Translations & MP3 Offline: 5,000,000+\n",
      "Koran Read &MP3 30 Juz Offline: 1,000,000+\n",
      "Hafizi Quran 15 lines per page: 1,000,000+\n",
      "Quran for Android: 10,000,000+\n",
      "Satellite AR: 1,000,000+\n",
      "Audiobooks from Audible: 100,000,000+\n",
      "Oxford A-Z of English Usage: 1,000,000+\n",
      "Dictionary.com: Find Definitions for English Words: 10,000,000+\n",
      "English Dictionary - Offline: 10,000,000+\n",
      "Bible KJV: 5,000,000+\n",
      "NOOK: Read eBooks & Magazines: 10,000,000+\n",
      "Brilliant Quotes: Life, Love, Family & Motivation: 1,000,000+\n",
      "Stats Royale for Clash Royale: 1,000,000+\n",
      "Dictionary: 10,000,000+\n",
      "wikiHow: how to do anything: 1,000,000+\n",
      "EGW Writings: 1,000,000+\n",
      "My Little Pony AR Guide: 1,000,000+\n",
      "Spanish English Translator: 10,000,000+\n",
      "Dictionary - Merriam-Webster: 10,000,000+\n",
      "JW Library: 10,000,000+\n",
      "Oxford Dictionary of English : Free: 10,000,000+\n",
      "English Hindi Dictionary: 10,000,000+\n",
      "English to Hindi Dictionary: 5,000,000+\n"
     ]
    }
   ],
   "source": [
    "for app in android_final:\n",
    "    category = app[1]\n",
    "    \n",
    "    if category == 'BOOKS_AND_REFERENCE':\n",
    "        n_installs = n_installs_string = app[5]\n",
    "        n_installs = n_installs.replace(',', '')\n",
    "        n_installs = n_installs.replace('+', '')\n",
    "        \n",
    "        if 1000000 <= int(n_installs) <= 100000000:\n",
    "            name = app[0]\n",
    "            print('{}: {}'.format(name, n_installs_string))"
   ]
  },
  {
   "cell_type": "markdown",
   "metadata": {},
   "source": [
    "This niche seems to be dominated by software for processing and reading ebooks, as well as various collections of libraries and dictionaries. Because of this, it's probably not a good idea to build similar apps since there'll be some significant competition.\n",
    "\n",
    "You'll also notice that there are quite a few apps built around the book *Quran*. This suggests that building an app around a popular book can be profitable. It seems that taking a popular book (perhaps a more recent book) and turning it into an app could be profitable for both the Google Play and App Store markets.\n",
    "\n",
    "However, since the market is already full of libraries, our company will need to add some special features besides the raw version of the book: daily quotes from the book, an audio version of the book, quizzes on the book, a forum where people can discuss the book, and more.\n",
    "\n",
    "## Conclusion\n",
    "\n",
    "In this project, I analyzed data about the App Store and Google Play markets. I manipulated thousands of apps and observed hundreds of entries from each data set. Overall, my goal was to come up with a data-driven app profile recommendation that could reasonably be applied to both Google Play and the App Store.\n",
    "\n",
    "In the end, I came to the conclusion that taking a popular book (perhaps a more recent book) and turning it into an app could be profitable for both the App Store and Google Play markets. Yet since the markets are already full of libraries, our company will need to implement some special features besides the raw version of the book to make this app stand out."
   ]
  }
 ],
 "metadata": {
  "kernelspec": {
   "display_name": "Python 3",
   "language": "python",
   "name": "python3"
  },
  "language_info": {
   "codemirror_mode": {
    "name": "ipython",
    "version": 3
   },
   "file_extension": ".py",
   "mimetype": "text/x-python",
   "name": "python",
   "nbconvert_exporter": "python",
   "pygments_lexer": "ipython3",
   "version": "3.7.4"
  }
 },
 "nbformat": 4,
 "nbformat_minor": 2
}
